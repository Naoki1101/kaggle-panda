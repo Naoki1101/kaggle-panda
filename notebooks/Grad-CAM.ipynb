{
 "cells": [
  {
   "cell_type": "code",
   "execution_count": null,
   "metadata": {},
   "outputs": [],
   "source": [
    "import sys\n",
    "import math\n",
    "import random\n",
    "import numpy as np\n",
    "import pandas as pd\n",
    "from pathlib import Path\n",
    "\n",
    "from PIL import Image\n",
    "import cv2\n",
    "\n",
    "from sklearn.model_selection import train_test_split\n",
    "from sklearn.metrics import confusion_matrix, cohen_kappa_score\n",
    "\n",
    "%matplotlib inline\n",
    "import matplotlib.pyplot as plt\n",
    "import seaborn as sns\n",
    "\n",
    "import torch.nn as nn\n",
    "from torch.nn.parameter import Parameter\n",
    "import torch.nn.functional as F\n",
    "from torch.nn import init\n",
    "import torch\n",
    "from torch.utils import model_zoo\n",
    "from collections import OrderedDict\n",
    "\n",
    "sys.path.append('../src')\n",
    "sys.path.append('../src')\n",
    "from utils import DataHandler\n",
    "import factory"
   ]
  },
  {
   "cell_type": "code",
   "execution_count": null,
   "metadata": {},
   "outputs": [],
   "source": [
    "dh = DataHandler()"
   ]
  },
  {
   "cell_type": "code",
   "execution_count": null,
   "metadata": {},
   "outputs": [],
   "source": [
    "def GradCam(img, c, feature_fn, classifier_fn):\n",
    "    feats = feature_fn(img)\n",
    "    _, N, H, W = feats.size()\n",
    "    out = classifier_fn(feats)\n",
    "    c_score = out[0, c]\n",
    "    grads = torch.autograd.grad(c_score, feats)\n",
    "    w = grads[0][0].mean(-1).mean(-1)\n",
    "    sal = torch.matmul(w, feats.view(N, H*W))\n",
    "    sal = F.relu(sal)\n",
    "    sal = sal.view(H, W).cpu().detach().numpy()\n",
    "    sal = np.maximum(sal, 0)\n",
    "    return sal\n",
    "\n",
    "\n",
    "class Flatten(nn.Module):\n",
    "    def __init__(self):\n",
    "        super(Flatten, self).__init__()\n",
    "\n",
    "    def forward(self, x):\n",
    "        return x.view(x.size(0), -1)\n",
    "\n",
    "\n",
    "def concat_tiles(image_list):\n",
    "    image = []\n",
    "    row_num = int(np.sqrt(len(image_list)))\n",
    "\n",
    "    for i in range(row_num):\n",
    "        v = [image_list[(row_num * i) + j] for j in range(row_num)]\n",
    "        image.append(cv2.hconcat(v))\n",
    "\n",
    "    return cv2.vconcat(image)\n",
    "\n",
    "    \n",
    "def show_gradcam(model, imga_id):\n",
    "    model.eval()\n",
    "    device = torch.device(\"cuda:0\" if torch.cuda.is_available() else \"cpu\")\n",
    "    \n",
    "    tiles = []\n",
    "    for i in range(36):\n",
    "            tile = cv2.imread(f'../data/input/train_tile_256x36/{imga_id}_{i}.png')\n",
    "            tiles.append(tile)\n",
    "    img = concat_tiles(tiles)\n",
    "#     img = cv2.imread(f'../data/input/train_images/{img_id}.png')\n",
    "    \n",
    "    features_fn = nn.Sequential(*list(model.children())[:-2])\n",
    "    classifier_fn = nn.Sequential(*(list(model.children())[-2:-1] + [Flatten()] + list(model.children())[-1:]))\n",
    "    \n",
    "    input_data = torch.tensor(img.reshape(1, img.shape[2], img.shape[0], img.shape[1])).to(device).float()\n",
    "#     pp, cc = torch.topk(nn.Softmax(dim=1)(model(input_data)), k=1)\n",
    "    pp, cc = torch.topk(model(input_data), k=1)\n",
    "    sal = GradCam(input_data.to(device), cc[0][0], features_fn, classifier_fn)\n",
    "#     print(sal)\n",
    "    img_sal = cv2.resize(sal, img.shape[0:2])\n",
    "    \n",
    "    fig, (ax1, ax2) = plt.subplots(1, 2, figsize=(24, 10))\n",
    "\n",
    "    ax1.imshow(img)\n",
    "\n",
    "    ax2.imshow(img)\n",
    "    ax2.imshow(np.array(img_sal), alpha=0.5, cmap='jet')"
   ]
  },
  {
   "cell_type": "markdown",
   "metadata": {},
   "source": [
    "# Main"
   ]
  },
  {
   "cell_type": "code",
   "execution_count": null,
   "metadata": {},
   "outputs": [],
   "source": [
    "log_dir = Path('../logs/clf_resnet18_20200703133354_0.827/')\n",
    "cfg = dh.load(log_dir / 'config.yml')\n",
    "oof = np.load(log_dir / 'oof.npy')"
   ]
  },
  {
   "cell_type": "code",
   "execution_count": null,
   "metadata": {
    "scrolled": true
   },
   "outputs": [],
   "source": [
    "train_df = pd.read_csv('../data/input/train.csv')\n",
    "drop_idx = np.load('../pickle/duplicate_img_idx.npy')\n",
    "train_df = train_df.drop(drop_idx, axis=0).reset_index(drop=True)\n",
    "\n",
    "trn_x, val_x = train_test_split(train_df,\n",
    "                                                      test_size=0.2, \n",
    "                                                      shuffle=True, \n",
    "                                                      random_state=2020)\n",
    "if oof.shape[1] == 1:\n",
    "    val_x['oof'] = oof\n",
    "else:\n",
    "    val_x['oof'] = np.argmax(oof, axis=1)"
   ]
  },
  {
   "cell_type": "code",
   "execution_count": null,
   "metadata": {
    "scrolled": true
   },
   "outputs": [],
   "source": [
    "device = torch.device(\"cuda:0\" if torch.cuda.is_available() else \"cpu\")\n",
    "cfg.model.multi_gpu = False\n",
    "\n",
    "model = factory.get_model(cfg).to(device)\n",
    "model.load_state_dict(torch.load(log_dir / 'weight_best.pt'))"
   ]
  },
  {
   "cell_type": "code",
   "execution_count": null,
   "metadata": {
    "scrolled": false
   },
   "outputs": [],
   "source": [
    "img_id = '6a523275e30b19c0390655b278716b58'\n",
    "show_gradcam(model, img_id)"
   ]
  },
  {
   "cell_type": "code",
   "execution_count": null,
   "metadata": {},
   "outputs": [],
   "source": [
    "val_x['diff'] = np.abs(val_x['isup_grade'] - val_x['oof'])"
   ]
  },
  {
   "cell_type": "code",
   "execution_count": null,
   "metadata": {},
   "outputs": [],
   "source": [
    "val_x"
   ]
  },
  {
   "cell_type": "code",
   "execution_count": null,
   "metadata": {},
   "outputs": [],
   "source": [
    "pd.read_csv('../data/input/tile_sort.csv')"
   ]
  },
  {
   "cell_type": "code",
   "execution_count": null,
   "metadata": {},
   "outputs": [],
   "source": []
  }
 ],
 "metadata": {
  "kernelspec": {
   "display_name": "Python 3",
   "language": "python",
   "name": "python3"
  },
  "language_info": {
   "codemirror_mode": {
    "name": "ipython",
    "version": 3
   },
   "file_extension": ".py",
   "mimetype": "text/x-python",
   "name": "python",
   "nbconvert_exporter": "python",
   "pygments_lexer": "ipython3",
   "version": "3.7.2"
  }
 },
 "nbformat": 4,
 "nbformat_minor": 2
}
