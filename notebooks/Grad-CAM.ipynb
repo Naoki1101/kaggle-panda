{
 "cells": [
  {
   "cell_type": "code",
   "execution_count": 9,
   "metadata": {},
   "outputs": [
    {
     "ename": "NameError",
     "evalue": "name 'pd' is not defined",
     "output_type": "error",
     "traceback": [
      "\u001b[0;31m-------------------------------\u001b[0m",
      "\u001b[0;31mNameError\u001b[0mTraceback (most recent call last)",
      "\u001b[0;32m<ipython-input-9-cd5bb3dd97f8>\u001b[0m in \u001b[0;36m<module>\u001b[0;34m\u001b[0m\n\u001b[1;32m     27\u001b[0m \u001b[0msys\u001b[0m\u001b[0;34m.\u001b[0m\u001b[0mpath\u001b[0m\u001b[0;34m.\u001b[0m\u001b[0mappend\u001b[0m\u001b[0;34m(\u001b[0m\u001b[0;34m'../src'\u001b[0m\u001b[0;34m)\u001b[0m\u001b[0;34m\u001b[0m\u001b[0;34m\u001b[0m\u001b[0m\n\u001b[1;32m     28\u001b[0m \u001b[0;32mfrom\u001b[0m \u001b[0mutils\u001b[0m \u001b[0;32mimport\u001b[0m \u001b[0mDataHandler\u001b[0m\u001b[0;34m\u001b[0m\u001b[0;34m\u001b[0m\u001b[0m\n\u001b[0;32m---> 29\u001b[0;31m \u001b[0;32mimport\u001b[0m \u001b[0mfactory\u001b[0m\u001b[0;34m\u001b[0m\u001b[0;34m\u001b[0m\u001b[0m\n\u001b[0m",
      "\u001b[0;32m~/kaggle/kaggle-panda/src/factory.py\u001b[0m in \u001b[0;36m<module>\u001b[0;34m\u001b[0m\n\u001b[1;32m      6\u001b[0m \u001b[0;32mimport\u001b[0m \u001b[0mlayer\u001b[0m\u001b[0;34m\u001b[0m\u001b[0;34m\u001b[0m\u001b[0m\n\u001b[1;32m      7\u001b[0m \u001b[0;32mfrom\u001b[0m \u001b[0mmodels\u001b[0m \u001b[0;32mimport\u001b[0m \u001b[0mefficientnet\u001b[0m\u001b[0;34m,\u001b[0m \u001b[0mresnet\u001b[0m\u001b[0;34m,\u001b[0m \u001b[0mresnest\u001b[0m\u001b[0;34m,\u001b[0m \u001b[0msenet\u001b[0m\u001b[0;34m,\u001b[0m \u001b[0mghostnet\u001b[0m\u001b[0;34m\u001b[0m\u001b[0;34m\u001b[0m\u001b[0m\n\u001b[0;32m----> 8\u001b[0;31m \u001b[0;32mfrom\u001b[0m \u001b[0mdataset\u001b[0m\u001b[0;34m.\u001b[0m\u001b[0mcustom_dataset\u001b[0m \u001b[0;32mimport\u001b[0m \u001b[0mCustomDataset\u001b[0m\u001b[0;34m\u001b[0m\u001b[0;34m\u001b[0m\u001b[0m\n\u001b[0m\u001b[1;32m      9\u001b[0m \u001b[0;34m\u001b[0m\u001b[0m\n\u001b[1;32m     10\u001b[0m model_encoder = {\n",
      "\u001b[0;32m~/kaggle/kaggle-panda/src/dataset/custom_dataset.py\u001b[0m in \u001b[0;36m<module>\u001b[0;34m\u001b[0m\n\u001b[1;32m      6\u001b[0m \u001b[0;32mimport\u001b[0m \u001b[0malbumentations\u001b[0m \u001b[0;32mas\u001b[0m \u001b[0malbum\u001b[0m\u001b[0;34m\u001b[0m\u001b[0;34m\u001b[0m\u001b[0m\n\u001b[1;32m      7\u001b[0m \u001b[0;34m\u001b[0m\u001b[0m\n\u001b[0;32m----> 8\u001b[0;31m \u001b[0mtile_df\u001b[0m \u001b[0;34m=\u001b[0m \u001b[0mpd\u001b[0m\u001b[0;34m.\u001b[0m\u001b[0mread_csv\u001b[0m\u001b[0;34m(\u001b[0m\u001b[0;34m'../data/input/tile_sort.csv'\u001b[0m\u001b[0;34m)\u001b[0m\u001b[0;34m\u001b[0m\u001b[0;34m\u001b[0m\u001b[0m\n\u001b[0m\u001b[1;32m      9\u001b[0m \u001b[0;34m\u001b[0m\u001b[0m\n\u001b[1;32m     10\u001b[0m \u001b[0;34m\u001b[0m\u001b[0m\n",
      "\u001b[0;31mNameError\u001b[0m: name 'pd' is not defined"
     ]
    }
   ],
   "source": [
    "import sys\n",
    "import math\n",
    "import random\n",
    "import numpy as np\n",
    "import pandas as pd\n",
    "from pathlib import Path\n",
    "\n",
    "from PIL import Image\n",
    "import cv2\n",
    "\n",
    "from sklearn.model_selection import train_test_split\n",
    "from sklearn.metrics import confusion_matrix, cohen_kappa_score\n",
    "\n",
    "%matplotlib inline\n",
    "import matplotlib.pyplot as plt\n",
    "import seaborn as sns\n",
    "\n",
    "import torch.nn as nn\n",
    "from torch.nn.parameter import Parameter\n",
    "import torch.nn.functional as F\n",
    "from torch.nn import init\n",
    "import torch\n",
    "from torch.utils import model_zoo\n",
    "from collections import OrderedDict\n",
    "\n",
    "sys.path.append('../src')\n",
    "sys.path.append('../src')\n",
    "from utils import DataHandler\n",
    "import factory"
   ]
  },
  {
   "cell_type": "code",
   "execution_count": null,
   "metadata": {},
   "outputs": [],
   "source": [
    "dh = DataHandler()"
   ]
  },
  {
   "cell_type": "code",
   "execution_count": null,
   "metadata": {},
   "outputs": [],
   "source": [
    "def GradCam(img, c, feature_fn, classifier_fn):\n",
    "    feats = feature_fn(img)\n",
    "    _, N, H, W = feats.size()\n",
    "    out = classifier_fn(feats)\n",
    "    c_score = out[0, c]\n",
    "    grads = torch.autograd.grad(c_score, feats)\n",
    "    w = grads[0][0].mean(-1).mean(-1)\n",
    "    sal = torch.matmul(w, feats.view(N, H*W))\n",
    "    sal = F.relu(sal)\n",
    "    sal = sal.view(H, W).cpu().detach().numpy()\n",
    "    sal = np.maximum(sal, 0)\n",
    "    return sal\n",
    "\n",
    "\n",
    "class Flatten(nn.Module):\n",
    "    def __init__(self):\n",
    "        super(Flatten, self).__init__()\n",
    "\n",
    "    def forward(self, x):\n",
    "        return x.view(x.size(0), -1)\n",
    "\n",
    "\n",
    "def concat_tiles(image_list):\n",
    "    image = []\n",
    "    row_num = int(np.sqrt(len(image_list)))\n",
    "\n",
    "    for i in range(row_num):\n",
    "        v = [image_list[(row_num * i) + j] for j in range(row_num)]\n",
    "        image.append(cv2.hconcat(v))\n",
    "\n",
    "    return cv2.vconcat(image)\n",
    "\n",
    "    \n",
    "def show_gradcam(model, imga_id):\n",
    "    model.eval()\n",
    "    device = torch.device(\"cuda:0\" if torch.cuda.is_available() else \"cpu\")\n",
    "    \n",
    "    tiles = []\n",
    "    for i in range(36):\n",
    "            tile = cv2.imread(f'../data/input/train_tile_256x36/{imga_id}_{i}.png')\n",
    "            tiles.append(tile)\n",
    "    img = concat_tiles(tiles)\n",
    "#     img = cv2.imread(f'../data/input/train_images/{img_id}.png')\n",
    "    \n",
    "    features_fn = nn.Sequential(*list(model.children())[:-2])\n",
    "    classifier_fn = nn.Sequential(*(list(model.children())[-2:-1] + [Flatten()] + list(model.children())[-1:]))\n",
    "    \n",
    "    input_data = torch.tensor(img.reshape(1, img.shape[2], img.shape[0], img.shape[1])).to(device).float()\n",
    "#     pp, cc = torch.topk(nn.Softmax(dim=1)(model(input_data)), k=1)\n",
    "    pp, cc = torch.topk(model(input_data), k=1)\n",
    "    sal = GradCam(input_data.to(device), cc[0][0], features_fn, classifier_fn)\n",
    "#     print(sal)\n",
    "    img_sal = cv2.resize(sal, img.shape[0:2])\n",
    "    \n",
    "    fig, (ax1, ax2) = plt.subplots(1, 2, figsize=(24, 10))\n",
    "\n",
    "    ax1.imshow(img)\n",
    "\n",
    "    ax2.imshow(img)\n",
    "    ax2.imshow(np.array(img_sal), alpha=0.5, cmap='jet')"
   ]
  },
  {
   "cell_type": "markdown",
   "metadata": {},
   "source": [
    "# Main"
   ]
  },
  {
   "cell_type": "code",
   "execution_count": null,
   "metadata": {},
   "outputs": [],
   "source": [
    "log_dir = Path('../logs/clf_resnet18_20200703133354_0.827/')\n",
    "cfg = dh.load(log_dir / 'config.yml')\n",
    "oof = np.load(log_dir / 'oof.npy')"
   ]
  },
  {
   "cell_type": "code",
   "execution_count": null,
   "metadata": {
    "scrolled": true
   },
   "outputs": [],
   "source": [
    "train_df = pd.read_csv('../data/input/train.csv')\n",
    "drop_idx = np.load('../pickle/duplicate_img_idx.npy')\n",
    "train_df = train_df.drop(drop_idx, axis=0).reset_index(drop=True)\n",
    "\n",
    "trn_x, val_x = train_test_split(train_df,\n",
    "                                                      test_size=0.2, \n",
    "                                                      shuffle=True, \n",
    "                                                      random_state=2020)\n",
    "if oof.shape[1] == 1:\n",
    "    val_x['oof'] = oof\n",
    "else:\n",
    "    val_x['oof'] = np.argmax(oof, axis=1)"
   ]
  },
  {
   "cell_type": "code",
   "execution_count": null,
   "metadata": {
    "scrolled": true
   },
   "outputs": [],
   "source": [
    "device = torch.device(\"cuda:0\" if torch.cuda.is_available() else \"cpu\")\n",
    "cfg.model.multi_gpu = False\n",
    "\n",
    "model = factory.get_model(cfg).to(device)\n",
    "model.load_state_dict(torch.load(log_dir / 'weight_best.pt'))"
   ]
  },
  {
   "cell_type": "code",
   "execution_count": null,
   "metadata": {
    "scrolled": false
   },
   "outputs": [],
   "source": [
    "img_id = '6a523275e30b19c0390655b278716b58'\n",
    "show_gradcam(model, img_id)"
   ]
  },
  {
   "cell_type": "code",
   "execution_count": null,
   "metadata": {},
   "outputs": [],
   "source": [
    "val_x['diff'] = np.abs(val_x['isup_grade'] - val_x['oof'])"
   ]
  },
  {
   "cell_type": "code",
   "execution_count": null,
   "metadata": {},
   "outputs": [],
   "source": [
    "val_x"
   ]
  },
  {
   "cell_type": "code",
   "execution_count": null,
   "metadata": {},
   "outputs": [],
   "source": []
  },
  {
   "cell_type": "code",
   "execution_count": 32,
   "metadata": {},
   "outputs": [],
   "source": [
    "a = np.load('../data/input/img_hash_sims.npy')\n",
    "a_ = a - np.eye(a.shape[0])"
   ]
  },
  {
   "cell_type": "code",
   "execution_count": 36,
   "metadata": {},
   "outputs": [],
   "source": [
    "idx = np.where(np.max(a_, axis=1) >= 0.96)[0]"
   ]
  },
  {
   "cell_type": "code",
   "execution_count": 38,
   "metadata": {},
   "outputs": [
    {
     "data": {
      "text/plain": [
       "array([ 7809,  4201,  1720,  7194,  5795,  3886,  4505,  9422,  3691,\n",
       "        3498,  9124,  7057, 10048,  6482,  3671,  7963,  1745,  9059,\n",
       "        3534,  7704,  6794,  4116,   384,  1181,  8134,  9116,  9110,\n",
       "        4066,  7483,  2380, 10225,  7452,  8548,  2210,  3939,  7599,\n",
       "        8147,  4950,  6155,  6852,  8467,  5182,  7432,   706,  1475,\n",
       "        9025,  7186,  5073,   989,   547,  6176,  7317,  8137,   435,\n",
       "        7417,  2412,  8193,  2051,  1717,  8947,  9504,  6284,   259,\n",
       "        6619,   463,  6907,  5031,  9796,  7842,  5147,  5319,  2714,\n",
       "        4769,  3665,  4867,  3124,  7260,  4894,  7023,  9602,  9351,\n",
       "        6741,   416,  9160,  9940,  2856,  8878,  3700,  4178,  9649,\n",
       "         910,  7483,  8729,  8589,  4276,  5760,  1628,  2948,  9413,\n",
       "        4569,  5422,   756,  3620,   414,  5315,  7857,  3823,  3920,\n",
       "        3242,  2292,  6510,  7834,  2584,  9911,  1504,  8896, 10163,\n",
       "          12,  7500,  4828,  7290,  1077,  1857,  3883,  2692,  3943,\n",
       "        2985,  2294,  6594,  9573,  9438,  6584,  6161,  7724,  4138,\n",
       "        3581,  1199,  1948,  1910,   747,  6075,  5633,  6858,   481,\n",
       "        8697,  4152,  8597,  5494,  6427,  4775,  7687,  6096,   808,\n",
       "        7779,  2267])"
      ]
     },
     "execution_count": 38,
     "metadata": {},
     "output_type": "execute_result"
    }
   ],
   "source": [
    "np.argmax(a_, axis=1)[idx]"
   ]
  },
  {
   "cell_type": "code",
   "execution_count": null,
   "metadata": {},
   "outputs": [],
   "source": []
  }
 ],
 "metadata": {
  "kernelspec": {
   "display_name": "Python 3",
   "language": "python",
   "name": "python3"
  },
  "language_info": {
   "codemirror_mode": {
    "name": "ipython",
    "version": 3
   },
   "file_extension": ".py",
   "mimetype": "text/x-python",
   "name": "python",
   "nbconvert_exporter": "python",
   "pygments_lexer": "ipython3",
   "version": "3.7.2"
  }
 },
 "nbformat": 4,
 "nbformat_minor": 2
}
